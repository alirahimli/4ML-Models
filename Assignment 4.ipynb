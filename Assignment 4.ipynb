{
 "cells": [
  {
   "cell_type": "code",
   "execution_count": 1,
   "id": "e5e7b0f8-449a-4b04-91cb-1e7ebfc5b854",
   "metadata": {},
   "outputs": [],
   "source": [
    "import pandas as pd\n",
    "import numpy as np\n",
    "import matplotlib as plt\n",
    "import matplotlib.pyplot \n",
    "import os\n",
    "import sklearn\n",
    "\n",
    "# For Task #2.2\n",
    "import random\n",
    "from sklearn.model_selection import train_test_split\n",
    "\n",
    "# For Task #3.3\n",
    "import seaborn\n",
    "\n",
    "# For Task #4\n",
    "from sklearn.preprocessing import LabelEncoder\n",
    "\n",
    "# For Task #5\n",
    "from sklearn import metrics\n",
    "from matplotlib.patches import Patch\n",
    "from sklearn.feature_selection import SelectFromModel\n",
    "from sklearn.model_selection import StratifiedKFold\n",
    "\n",
    "# For Task #7\n",
    "from sklearn.linear_model import LogisticRegression\n",
    "from sklearn.ensemble import RandomForestClassifier\n",
    "from sklearn.tree import DecisionTreeClassifier, export_graphviz\n",
    "\n",
    "\n",
    "# For rendering the plots *in* a notebook\n",
    "%matplotlib inline\n",
    "\n",
    "# For disabling 'SettingWithCopyWarning' warning\n",
    "pd.options.mode.chained_assignment = None  # default='warn'"
   ]
  },
  {
   "cell_type": "markdown",
   "id": "fa918c86-7d46-4dcd-a0eb-72c240195cfe",
   "metadata": {},
   "source": [
    "# Task #1 — Mix the training and testing data"
   ]
  },
  {
   "cell_type": "markdown",
   "id": "8720984d-85a4-425d-90ff-972374611368",
   "metadata": {},
   "source": [
    "### 1. Reading the training and testing data"
   ]
  },
  {
   "cell_type": "code",
   "execution_count": 2,
   "id": "f8a974b9-e001-451d-9831-54849a0e90e4",
   "metadata": {},
   "outputs": [],
   "source": [
    "train = pd.read_csv('train.csv')\n",
    "test = pd.read_csv('test.csv')"
   ]
  },
  {
   "cell_type": "markdown",
   "id": "5ccd1700-bc47-48f7-ab3c-f6273ac08f0f",
   "metadata": {},
   "source": [
    "#### Output"
   ]
  },
  {
   "cell_type": "code",
   "execution_count": 3,
   "id": "8c134f9b-4929-4cf8-8b68-c20c2330b7f3",
   "metadata": {},
   "outputs": [
    {
     "name": "stdout",
     "output_type": "stream",
     "text": [
      "\n",
      "----------------/ Train Data /----------------\n",
      "\n",
      "<class 'pandas.core.frame.DataFrame'>\n",
      "RangeIndex: 614 entries, 0 to 613\n",
      "Columns: 13 entries, Loan_ID to Loan_Status\n",
      "dtypes: float64(4), int64(1), object(8)\n",
      "memory usage: 62.5+ KB\n",
      "\n",
      "\n",
      "----------------/ Test Data /----------------\n",
      "\n",
      "<class 'pandas.core.frame.DataFrame'>\n",
      "RangeIndex: 367 entries, 0 to 366\n",
      "Columns: 12 entries, Loan_ID to Property_Area\n",
      "dtypes: float64(3), int64(2), object(7)\n",
      "memory usage: 34.5+ KB\n"
     ]
    }
   ],
   "source": [
    "print('\\n----------------/ Train Data /----------------\\n')\n",
    "train.info(verbose = False)\n",
    "print('\\n\\n----------------/ Test Data /----------------\\n')\n",
    "test.info(verbose = False)"
   ]
  },
  {
   "cell_type": "markdown",
   "id": "323532a3-047f-4ccd-83ee-ccb451364978",
   "metadata": {},
   "source": [
    "### 2. Concatenating the training and testing data"
   ]
  },
  {
   "cell_type": "code",
   "execution_count": 4,
   "id": "6223a6ee-9a21-42a5-994e-d0ddb293ec3f",
   "metadata": {},
   "outputs": [],
   "source": [
    "train_test = pd.concat([train, test])"
   ]
  },
  {
   "cell_type": "markdown",
   "id": "877fd414-124a-4db0-8a8e-d350080f65db",
   "metadata": {},
   "source": [
    "#### Output"
   ]
  },
  {
   "cell_type": "code",
   "execution_count": 5,
   "id": "ebc42f55-f1b3-41a0-ab78-95162f712251",
   "metadata": {},
   "outputs": [
    {
     "name": "stdout",
     "output_type": "stream",
     "text": [
      "<class 'pandas.core.frame.DataFrame'>\n",
      "Int64Index: 981 entries, 0 to 366\n",
      "Columns: 13 entries, Loan_ID to Loan_Status\n",
      "dtypes: float64(4), int64(1), object(8)\n",
      "memory usage: 107.3+ KB\n"
     ]
    }
   ],
   "source": [
    "train_test.info(verbose = False)"
   ]
  },
  {
   "cell_type": "markdown",
   "id": "f2e43537-7be2-410f-97fc-ed8094bdac0e",
   "metadata": {},
   "source": [
    "# Task #2 — Separate data into three subsets: train, test, blind (with missing data)"
   ]
  },
  {
   "cell_type": "markdown",
   "id": "909bba8c-7773-4a17-8923-a8d6204f05c2",
   "metadata": {},
   "source": [
    "## Task #2.1 — Separate automatically"
   ]
  },
  {
   "cell_type": "markdown",
   "id": "8ffe267d-5f8f-49f1-a45e-c27ad756a341",
   "metadata": {},
   "source": [
    "### 1. Separating rows with correctly filled data into new dataset"
   ]
  },
  {
   "cell_type": "code",
   "execution_count": 6,
   "id": "71eed1fb-47e7-4d7b-8c3f-d20959c4384b",
   "metadata": {},
   "outputs": [],
   "source": [
    "train_test_without_missing = train_test.dropna(axis = 0)"
   ]
  },
  {
   "cell_type": "markdown",
   "id": "d086d76d-43dd-4785-b7f9-2fb717f480b6",
   "metadata": {},
   "source": [
    "#### Output"
   ]
  },
  {
   "cell_type": "code",
   "execution_count": 7,
   "id": "cf3c42af-57c2-4322-ba8b-d0be7fe981f7",
   "metadata": {},
   "outputs": [
    {
     "name": "stdout",
     "output_type": "stream",
     "text": [
      "<class 'pandas.core.frame.DataFrame'>\n",
      "Int64Index: 480 entries, 1 to 613\n",
      "Columns: 13 entries, Loan_ID to Loan_Status\n",
      "dtypes: float64(4), int64(1), object(8)\n",
      "memory usage: 52.5+ KB\n"
     ]
    }
   ],
   "source": [
    "train_test_without_missing.info(verbose = False)"
   ]
  },
  {
   "cell_type": "code",
   "execution_count": 8,
   "id": "2f5c41ba-e460-424d-90e9-8bcb4ddf2e31",
   "metadata": {},
   "outputs": [
    {
     "data": {
      "text/plain": [
       "Loan_ID              0\n",
       "Gender               0\n",
       "Married              0\n",
       "Dependents           0\n",
       "Education            0\n",
       "Self_Employed        0\n",
       "ApplicantIncome      0\n",
       "CoapplicantIncome    0\n",
       "LoanAmount           0\n",
       "Loan_Amount_Term     0\n",
       "Credit_History       0\n",
       "Property_Area        0\n",
       "Loan_Status          0\n",
       "dtype: int64"
      ]
     },
     "execution_count": 8,
     "metadata": {},
     "output_type": "execute_result"
    }
   ],
   "source": [
    "train_test_without_missing.isnull().sum()"
   ]
  },
  {
   "cell_type": "markdown",
   "id": "9c8811a9-d6a2-4799-a514-bbe5e8f64a51",
   "metadata": {},
   "source": [
    "### 2. Separating rows with missing data automatically into new dataset"
   ]
  },
  {
   "cell_type": "code",
   "execution_count": 9,
   "id": "cc3ba6e5-721c-4f43-93bc-59c5e7a2c1b1",
   "metadata": {},
   "outputs": [],
   "source": [
    "blind = train_test[train_test.isnull().any(axis = 1)]"
   ]
  },
  {
   "cell_type": "markdown",
   "id": "043c2a91-fee5-448b-8187-3f0c85544fcc",
   "metadata": {},
   "source": [
    "#### Output"
   ]
  },
  {
   "cell_type": "code",
   "execution_count": 10,
   "id": "905b004b-5e73-4684-a056-3bbeb5fec72a",
   "metadata": {},
   "outputs": [
    {
     "name": "stdout",
     "output_type": "stream",
     "text": [
      "\n",
      "--------------/ Blind Data /--------------\n",
      "\n",
      "<class 'pandas.core.frame.DataFrame'>\n",
      "Int64Index: 501 entries, 0 to 366\n",
      "Columns: 13 entries, Loan_ID to Loan_Status\n",
      "dtypes: float64(4), int64(1), object(8)\n",
      "memory usage: 54.8+ KB\n",
      "\n",
      "\n",
      "------/ Blind Data (first 10 rows) /------\n",
      "\n"
     ]
    },
    {
     "data": {
      "text/html": [
       "<div>\n",
       "<style scoped>\n",
       "    .dataframe tbody tr th:only-of-type {\n",
       "        vertical-align: middle;\n",
       "    }\n",
       "\n",
       "    .dataframe tbody tr th {\n",
       "        vertical-align: top;\n",
       "    }\n",
       "\n",
       "    .dataframe thead th {\n",
       "        text-align: right;\n",
       "    }\n",
       "</style>\n",
       "<table border=\"1\" class=\"dataframe\">\n",
       "  <thead>\n",
       "    <tr style=\"text-align: right;\">\n",
       "      <th></th>\n",
       "      <th>Loan_ID</th>\n",
       "      <th>Gender</th>\n",
       "      <th>Married</th>\n",
       "      <th>Dependents</th>\n",
       "      <th>Education</th>\n",
       "      <th>Self_Employed</th>\n",
       "      <th>ApplicantIncome</th>\n",
       "      <th>CoapplicantIncome</th>\n",
       "      <th>LoanAmount</th>\n",
       "      <th>Loan_Amount_Term</th>\n",
       "      <th>Credit_History</th>\n",
       "      <th>Property_Area</th>\n",
       "      <th>Loan_Status</th>\n",
       "    </tr>\n",
       "  </thead>\n",
       "  <tbody>\n",
       "    <tr>\n",
       "      <th>0</th>\n",
       "      <td>LP001002</td>\n",
       "      <td>Male</td>\n",
       "      <td>No</td>\n",
       "      <td>0</td>\n",
       "      <td>Graduate</td>\n",
       "      <td>No</td>\n",
       "      <td>5849</td>\n",
       "      <td>0.0</td>\n",
       "      <td>NaN</td>\n",
       "      <td>360.0</td>\n",
       "      <td>1.0</td>\n",
       "      <td>Urban</td>\n",
       "      <td>Y</td>\n",
       "    </tr>\n",
       "    <tr>\n",
       "      <th>11</th>\n",
       "      <td>LP001027</td>\n",
       "      <td>Male</td>\n",
       "      <td>Yes</td>\n",
       "      <td>2</td>\n",
       "      <td>Graduate</td>\n",
       "      <td>NaN</td>\n",
       "      <td>2500</td>\n",
       "      <td>1840.0</td>\n",
       "      <td>109.0</td>\n",
       "      <td>360.0</td>\n",
       "      <td>1.0</td>\n",
       "      <td>Urban</td>\n",
       "      <td>Y</td>\n",
       "    </tr>\n",
       "    <tr>\n",
       "      <th>16</th>\n",
       "      <td>LP001034</td>\n",
       "      <td>Male</td>\n",
       "      <td>No</td>\n",
       "      <td>1</td>\n",
       "      <td>Not Graduate</td>\n",
       "      <td>No</td>\n",
       "      <td>3596</td>\n",
       "      <td>0.0</td>\n",
       "      <td>100.0</td>\n",
       "      <td>240.0</td>\n",
       "      <td>NaN</td>\n",
       "      <td>Urban</td>\n",
       "      <td>Y</td>\n",
       "    </tr>\n",
       "    <tr>\n",
       "      <th>19</th>\n",
       "      <td>LP001041</td>\n",
       "      <td>Male</td>\n",
       "      <td>Yes</td>\n",
       "      <td>0</td>\n",
       "      <td>Graduate</td>\n",
       "      <td>NaN</td>\n",
       "      <td>2600</td>\n",
       "      <td>3500.0</td>\n",
       "      <td>115.0</td>\n",
       "      <td>NaN</td>\n",
       "      <td>1.0</td>\n",
       "      <td>Urban</td>\n",
       "      <td>Y</td>\n",
       "    </tr>\n",
       "    <tr>\n",
       "      <th>23</th>\n",
       "      <td>LP001050</td>\n",
       "      <td>NaN</td>\n",
       "      <td>Yes</td>\n",
       "      <td>2</td>\n",
       "      <td>Not Graduate</td>\n",
       "      <td>No</td>\n",
       "      <td>3365</td>\n",
       "      <td>1917.0</td>\n",
       "      <td>112.0</td>\n",
       "      <td>360.0</td>\n",
       "      <td>0.0</td>\n",
       "      <td>Rural</td>\n",
       "      <td>N</td>\n",
       "    </tr>\n",
       "    <tr>\n",
       "      <th>24</th>\n",
       "      <td>LP001052</td>\n",
       "      <td>Male</td>\n",
       "      <td>Yes</td>\n",
       "      <td>1</td>\n",
       "      <td>Graduate</td>\n",
       "      <td>NaN</td>\n",
       "      <td>3717</td>\n",
       "      <td>2925.0</td>\n",
       "      <td>151.0</td>\n",
       "      <td>360.0</td>\n",
       "      <td>NaN</td>\n",
       "      <td>Semiurban</td>\n",
       "      <td>N</td>\n",
       "    </tr>\n",
       "    <tr>\n",
       "      <th>29</th>\n",
       "      <td>LP001087</td>\n",
       "      <td>Female</td>\n",
       "      <td>No</td>\n",
       "      <td>2</td>\n",
       "      <td>Graduate</td>\n",
       "      <td>NaN</td>\n",
       "      <td>3750</td>\n",
       "      <td>2083.0</td>\n",
       "      <td>120.0</td>\n",
       "      <td>360.0</td>\n",
       "      <td>1.0</td>\n",
       "      <td>Semiurban</td>\n",
       "      <td>Y</td>\n",
       "    </tr>\n",
       "    <tr>\n",
       "      <th>30</th>\n",
       "      <td>LP001091</td>\n",
       "      <td>Male</td>\n",
       "      <td>Yes</td>\n",
       "      <td>1</td>\n",
       "      <td>Graduate</td>\n",
       "      <td>NaN</td>\n",
       "      <td>4166</td>\n",
       "      <td>3369.0</td>\n",
       "      <td>201.0</td>\n",
       "      <td>360.0</td>\n",
       "      <td>NaN</td>\n",
       "      <td>Urban</td>\n",
       "      <td>N</td>\n",
       "    </tr>\n",
       "    <tr>\n",
       "      <th>35</th>\n",
       "      <td>LP001106</td>\n",
       "      <td>Male</td>\n",
       "      <td>Yes</td>\n",
       "      <td>0</td>\n",
       "      <td>Graduate</td>\n",
       "      <td>No</td>\n",
       "      <td>2275</td>\n",
       "      <td>2067.0</td>\n",
       "      <td>NaN</td>\n",
       "      <td>360.0</td>\n",
       "      <td>1.0</td>\n",
       "      <td>Urban</td>\n",
       "      <td>Y</td>\n",
       "    </tr>\n",
       "    <tr>\n",
       "      <th>36</th>\n",
       "      <td>LP001109</td>\n",
       "      <td>Male</td>\n",
       "      <td>Yes</td>\n",
       "      <td>0</td>\n",
       "      <td>Graduate</td>\n",
       "      <td>No</td>\n",
       "      <td>1828</td>\n",
       "      <td>1330.0</td>\n",
       "      <td>100.0</td>\n",
       "      <td>NaN</td>\n",
       "      <td>0.0</td>\n",
       "      <td>Urban</td>\n",
       "      <td>N</td>\n",
       "    </tr>\n",
       "  </tbody>\n",
       "</table>\n",
       "</div>"
      ],
      "text/plain": [
       "     Loan_ID  Gender Married Dependents     Education Self_Employed  \\\n",
       "0   LP001002    Male      No          0      Graduate            No   \n",
       "11  LP001027    Male     Yes          2      Graduate           NaN   \n",
       "16  LP001034    Male      No          1  Not Graduate            No   \n",
       "19  LP001041    Male     Yes          0      Graduate           NaN   \n",
       "23  LP001050     NaN     Yes          2  Not Graduate            No   \n",
       "24  LP001052    Male     Yes          1      Graduate           NaN   \n",
       "29  LP001087  Female      No          2      Graduate           NaN   \n",
       "30  LP001091    Male     Yes          1      Graduate           NaN   \n",
       "35  LP001106    Male     Yes          0      Graduate            No   \n",
       "36  LP001109    Male     Yes          0      Graduate            No   \n",
       "\n",
       "    ApplicantIncome  CoapplicantIncome  LoanAmount  Loan_Amount_Term  \\\n",
       "0              5849                0.0         NaN             360.0   \n",
       "11             2500             1840.0       109.0             360.0   \n",
       "16             3596                0.0       100.0             240.0   \n",
       "19             2600             3500.0       115.0               NaN   \n",
       "23             3365             1917.0       112.0             360.0   \n",
       "24             3717             2925.0       151.0             360.0   \n",
       "29             3750             2083.0       120.0             360.0   \n",
       "30             4166             3369.0       201.0             360.0   \n",
       "35             2275             2067.0         NaN             360.0   \n",
       "36             1828             1330.0       100.0               NaN   \n",
       "\n",
       "    Credit_History Property_Area Loan_Status  \n",
       "0              1.0         Urban           Y  \n",
       "11             1.0         Urban           Y  \n",
       "16             NaN         Urban           Y  \n",
       "19             1.0         Urban           Y  \n",
       "23             0.0         Rural           N  \n",
       "24             NaN     Semiurban           N  \n",
       "29             1.0     Semiurban           Y  \n",
       "30             NaN         Urban           N  \n",
       "35             1.0         Urban           Y  \n",
       "36             0.0         Urban           N  "
      ]
     },
     "execution_count": 10,
     "metadata": {},
     "output_type": "execute_result"
    }
   ],
   "source": [
    "print('\\n--------------/ Blind Data /--------------\\n')\n",
    "blind.info(verbose = False)\n",
    "print('\\n\\n------/ Blind Data (first 10 rows) /------\\n')\n",
    "blind.head(10)"
   ]
  },
  {
   "cell_type": "code",
   "execution_count": 11,
   "id": "ba10fe24-50ed-4af9-a5b4-c30538890357",
   "metadata": {},
   "outputs": [
    {
     "data": {
      "text/plain": [
       "Loan_ID                0\n",
       "Gender                24\n",
       "Married                3\n",
       "Dependents            25\n",
       "Education              0\n",
       "Self_Employed         55\n",
       "ApplicantIncome        0\n",
       "CoapplicantIncome      0\n",
       "LoanAmount            27\n",
       "Loan_Amount_Term      20\n",
       "Credit_History        79\n",
       "Property_Area          0\n",
       "Loan_Status          367\n",
       "dtype: int64"
      ]
     },
     "execution_count": 11,
     "metadata": {},
     "output_type": "execute_result"
    }
   ],
   "source": [
    "blind.isnull().sum()"
   ]
  },
  {
   "cell_type": "markdown",
   "id": "53b58e65-16d2-41d9-801c-563d37868877",
   "metadata": {},
   "source": [
    "## Task #2.2 — Separate randomly"
   ]
  },
  {
   "cell_type": "markdown",
   "id": "f2f0588f-9a2a-4e41-a0ab-99df0dbb9a91",
   "metadata": {},
   "source": [
    "### Separating the merged training and testing data randomly with proportions 70:30"
   ]
  },
  {
   "cell_type": "code",
   "execution_count": 12,
   "id": "36329a0a-c468-48d4-99f3-7d2d63faa9fe",
   "metadata": {},
   "outputs": [],
   "source": [
    "train_without_missing, test_without_missing = train_test_split(train_test_without_missing, test_size = 0.3, random_state = 32)"
   ]
  },
  {
   "cell_type": "markdown",
   "id": "e271a5be-6203-4831-a5c9-b42abca6dd82",
   "metadata": {},
   "source": [
    "#### Output"
   ]
  },
  {
   "cell_type": "code",
   "execution_count": 13,
   "id": "41cd7b67-d998-43cb-8e34-49888a6c9ce4",
   "metadata": {},
   "outputs": [
    {
     "name": "stdout",
     "output_type": "stream",
     "text": [
      "Training examples: 336 entries\n",
      "Testing examples: 144 entries\n"
     ]
    }
   ],
   "source": [
    "print(f'Training examples: {train_without_missing.shape[0]} entries')\n",
    "print(f'Testing examples: {test_without_missing.shape[0]} entries')"
   ]
  },
  {
   "cell_type": "markdown",
   "id": "7f282e05-ced5-4366-a5b1-6333e0a126d1",
   "metadata": {},
   "source": [
    "# Task #3 — Data munging: fill missing data, treat extremums and transform data"
   ]
  },
  {
   "cell_type": "markdown",
   "id": "d5dcb82d-af15-4afe-9700-10cb0cc3c279",
   "metadata": {},
   "source": [
    "## Task #3.1 — Fill missing data"
   ]
  },
  {
   "cell_type": "markdown",
   "id": "ed7936dd-9d9c-4481-be7c-acfbf608de03",
   "metadata": {},
   "source": [
    "### 1. Filling missing values in the Blind dataset"
   ]
  },
  {
   "cell_type": "markdown",
   "id": "438f975d-b241-4828-a8e3-29d250e5ab1b",
   "metadata": {},
   "source": [
    "#### Initial output"
   ]
  },
  {
   "cell_type": "code",
   "execution_count": 14,
   "id": "04da65f1-2a06-4ca6-9e36-1f672561f183",
   "metadata": {},
   "outputs": [
    {
     "data": {
      "text/plain": [
       "Loan_ID                0\n",
       "Gender                24\n",
       "Married                3\n",
       "Dependents            25\n",
       "Education              0\n",
       "Self_Employed         55\n",
       "ApplicantIncome        0\n",
       "CoapplicantIncome      0\n",
       "LoanAmount            27\n",
       "Loan_Amount_Term      20\n",
       "Credit_History        79\n",
       "Property_Area          0\n",
       "Loan_Status          367\n",
       "dtype: int64"
      ]
     },
     "execution_count": 14,
     "metadata": {},
     "output_type": "execute_result"
    }
   ],
   "source": [
    "blind.isnull().sum()"
   ]
  },
  {
   "cell_type": "markdown",
   "id": "0459df8c-1519-4b7e-b52a-efae601a2f57",
   "metadata": {},
   "source": [
    "#### Input"
   ]
  },
  {
   "cell_type": "code",
   "execution_count": 15,
   "id": "b12b9ba7-ea1b-4b13-9e53-3ea15e025bcb",
   "metadata": {},
   "outputs": [],
   "source": [
    "gender = ['Male', 'Female']\n",
    "blind['Gender'] = np.random.choice(list(gender), len(blind))\n",
    "\n",
    "married = ['Yes', 'No']\n",
    "blind['Married'] = np.random.choice(list(married), len(blind))\n",
    "\n",
    "dependents = ['0', '1', '2', '3+']\n",
    "blind['Dependents'] = np.random.choice(list(dependents), len(blind))\n",
    "\n",
    "blind['LoanAmount'].fillna(blind['LoanAmount'].mean(), inplace = True)\n",
    "\n",
    "selfEmployed = ['Yes', 'No']\n",
    "blind['Self_Employed'] = np.random.choice(list(selfEmployed), len(blind))\n",
    "\n",
    "blind['ApplicantIncome'].fillna(blind['ApplicantIncome'].mean(), inplace = True)\n",
    "blind['Loan_Amount_Term'].fillna(blind['Loan_Amount_Term'].mean(), inplace = True)\n",
    "blind['Credit_History'].fillna(blind['Credit_History'].mean(), inplace = True)\n",
    "\n",
    "loanStatus = ['Y', 'N']\n",
    "blind['Loan_Status'] = np.random.choice(list(loanStatus), len(blind))\n"
   ]
  },
  {
   "cell_type": "markdown",
   "id": "fd710d6f-1857-4ef1-8127-ff924d8363df",
   "metadata": {},
   "source": [
    "#### Output"
   ]
  },
  {
   "cell_type": "code",
   "execution_count": 16,
   "id": "1c14b6b3-a897-4197-8648-9efe7fef8935",
   "metadata": {},
   "outputs": [
    {
     "data": {
      "text/plain": [
       "Loan_ID              0\n",
       "Gender               0\n",
       "Married              0\n",
       "Dependents           0\n",
       "Education            0\n",
       "Self_Employed        0\n",
       "ApplicantIncome      0\n",
       "CoapplicantIncome    0\n",
       "LoanAmount           0\n",
       "Loan_Amount_Term     0\n",
       "Credit_History       0\n",
       "Property_Area        0\n",
       "Loan_Status          0\n",
       "dtype: int64"
      ]
     },
     "execution_count": 16,
     "metadata": {},
     "output_type": "execute_result"
    }
   ],
   "source": [
    "blind.isnull().sum()"
   ]
  },
  {
   "cell_type": "markdown",
   "id": "c70b83dd-e04a-4b50-a5b4-f453c0ec6589",
   "metadata": {},
   "source": [
    "### 2. Converting categorical values to numerical in the Blind dataset "
   ]
  },
  {
   "cell_type": "markdown",
   "id": "7e93d0cc-e62b-470f-908e-4267ec1fa5ae",
   "metadata": {},
   "source": [
    "#### Initial output"
   ]
  },
  {
   "cell_type": "code",
   "execution_count": 17,
   "id": "26691277-d4d1-49a9-958a-58d278974bed",
   "metadata": {},
   "outputs": [
    {
     "data": {
      "text/plain": [
       "Loan_ID               object\n",
       "Gender                object\n",
       "Married               object\n",
       "Dependents            object\n",
       "Education             object\n",
       "Self_Employed         object\n",
       "ApplicantIncome        int64\n",
       "CoapplicantIncome    float64\n",
       "LoanAmount           float64\n",
       "Loan_Amount_Term     float64\n",
       "Credit_History       float64\n",
       "Property_Area         object\n",
       "Loan_Status           object\n",
       "dtype: object"
      ]
     },
     "execution_count": 17,
     "metadata": {},
     "output_type": "execute_result"
    }
   ],
   "source": [
    "blind.dtypes"
   ]
  },
  {
   "cell_type": "markdown",
   "id": "d95b70b6-ff41-4def-9573-9dc7ba35dff9",
   "metadata": {},
   "source": [
    "#### Input"
   ]
  },
  {
   "cell_type": "code",
   "execution_count": 18,
   "id": "07854f52-c5f1-4de5-be5c-96e22fd9123b",
   "metadata": {},
   "outputs": [],
   "source": [
    "var_mod = ['Married', 'Gender', 'Dependents', 'Education', 'Self_Employed', 'Property_Area', 'Loan_Status']\n",
    "le = LabelEncoder()\n",
    "for i in var_mod:\n",
    "    blind[i] = le.fit_transform(blind[i])"
   ]
  },
  {
   "cell_type": "markdown",
   "id": "f701b191-015c-458c-ba4a-cf7bfadf8e6c",
   "metadata": {},
   "source": [
    "#### Output"
   ]
  },
  {
   "cell_type": "code",
   "execution_count": 19,
   "id": "53192fb6-df4f-48a6-bee4-7d32c02b43b0",
   "metadata": {},
   "outputs": [
    {
     "data": {
      "text/plain": [
       "Loan_ID               object\n",
       "Gender                 int32\n",
       "Married                int32\n",
       "Dependents             int32\n",
       "Education              int32\n",
       "Self_Employed          int32\n",
       "ApplicantIncome        int64\n",
       "CoapplicantIncome    float64\n",
       "LoanAmount           float64\n",
       "Loan_Amount_Term     float64\n",
       "Credit_History       float64\n",
       "Property_Area          int32\n",
       "Loan_Status            int32\n",
       "dtype: object"
      ]
     },
     "execution_count": 19,
     "metadata": {},
     "output_type": "execute_result"
    }
   ],
   "source": [
    "blind.dtypes"
   ]
  },
  {
   "cell_type": "markdown",
   "id": "39102de5-25a2-46ba-87b2-3179e1e17bd8",
   "metadata": {},
   "source": [
    "## Task #3.2 — Treat extreme values"
   ]
  },
  {
   "cell_type": "markdown",
   "id": "ae593d2d-fcbf-4135-83df-0414b4a063b1",
   "metadata": {},
   "source": [
    "### 1. Filtering the data from the outliers"
   ]
  },
  {
   "cell_type": "markdown",
   "id": "3ac14f70-a97b-47a4-b943-6c3d2ee33ad2",
   "metadata": {},
   "source": [
    "#### Initial output"
   ]
  },
  {
   "cell_type": "code",
   "execution_count": 20,
   "id": "cd347451-2432-4712-9350-43b9b018c022",
   "metadata": {},
   "outputs": [
    {
     "data": {
      "text/plain": [
       "<AxesSubplot:title={'center':'ApplicantIncome'}, xlabel='Gender'>"
      ]
     },
     "execution_count": 20,
     "metadata": {},
     "output_type": "execute_result"
    },
    {
     "data": {
      "image/png": "[encoded data removed]",
      "text/plain": [
       "<Figure size 432x288 with 1 Axes>"
      ]
     },
     "metadata": {
      "needs_background": "light"
     },
     "output_type": "display_data"
    }
   ],
   "source": [
    "train_test_without_missing.boxplot(column = 'ApplicantIncome', by = 'Gender')"
   ]
  },
  {
   "cell_type": "markdown",
   "id": "ac021d1b-9618-406a-92ba-e17c376dfa19",
   "metadata": {},
   "source": [
    "#### Input"
   ]
  },
  {
   "cell_type": "code",
   "execution_count": 21,
   "id": "499a1416-8e19-4d48-88a7-b2a56d55cac2",
   "metadata": {},
   "outputs": [],
   "source": [
    "Q1 = train_test_without_missing['ApplicantIncome'].quantile(0.25)\n",
    "Q3 = train_test_without_missing['ApplicantIncome'].quantile(0.75)\n",
    "IQR = Q3 - Q1\n",
    "\n",
    "filter = (train_test_without_missing['ApplicantIncome'] >= Q1 - 1.5 * IQR) & (train_test_without_missing['ApplicantIncome'] <= Q3 + 1.5 * IQR)\n",
    "\n",
    "filtered_train_test = train_test_without_missing.loc[filter]"
   ]
  },
  {
   "cell_type": "code",
   "execution_count": 22,
   "id": "53265fcb-4cf5-4c61-96c5-515c6f61f3ea",
   "metadata": {},
   "outputs": [
    {
     "data": {
      "text/plain": [
       "<AxesSubplot:title={'center':'ApplicantIncome'}, xlabel='Gender'>"
      ]
     },
     "execution_count": 22,
     "metadata": {},
     "output_type": "execute_result"
    },
    {
     "data": {
      "image/png": "[encoded data removed]",
      "text/plain": [
       "<Figure size 432x288 with 1 Axes>"
      ]
     },
     "metadata": {
      "needs_background": "light"
     },
     "output_type": "display_data"
    }
   ],
   "source": [
    "filtered_train_test.boxplot(column = 'ApplicantIncome', by = 'Gender')"
   ]
  },
  {
   "cell_type": "markdown",
   "id": "2da14396-d61b-41fd-b61a-17807b168169",
   "metadata": {},
   "source": [
    "### 2. Converting categorical values to numerical in the filtered dataset"
   ]
  },
  {
   "cell_type": "markdown",
   "id": "926abe81-9a1f-46f9-8031-a9636ba33fd8",
   "metadata": {},
   "source": [
    "#### Initial output"
   ]
  },
  {
   "cell_type": "code",
   "execution_count": 23,
   "id": "17001b27-bddc-42a9-aa77-aa708e66cf60",
   "metadata": {},
   "outputs": [
    {
     "data": {
      "text/plain": [
       "Loan_ID               object\n",
       "Gender                object\n",
       "Married               object\n",
       "Dependents            object\n",
       "Education             object\n",
       "Self_Employed         object\n",
       "ApplicantIncome        int64\n",
       "CoapplicantIncome    float64\n",
       "LoanAmount           float64\n",
       "Loan_Amount_Term     float64\n",
       "Credit_History       float64\n",
       "Property_Area         object\n",
       "Loan_Status           object\n",
       "dtype: object"
      ]
     },
     "execution_count": 23,
     "metadata": {},
     "output_type": "execute_result"
    }
   ],
   "source": [
    "filtered_train_test.dtypes"
   ]
  },
  {
   "cell_type": "markdown",
   "id": "499f7856-f635-446b-bb46-8d57ff7c205c",
   "metadata": {},
   "source": [
    "#### Input"
   ]
  },
  {
   "cell_type": "code",
   "execution_count": 24,
   "id": "18c44672-97b8-48c0-9061-4c1900e0b2fe",
   "metadata": {},
   "outputs": [],
   "source": [
    "var_mod = ['Gender', 'Married', 'Dependents', 'Education', 'Self_Employed', 'Property_Area', 'Loan_Status']\n",
    "le = LabelEncoder()\n",
    "for i in var_mod:\n",
    "    filtered_train_test[i] = le.fit_transform(filtered_train_test[i])"
   ]
  },
  {
   "cell_type": "markdown",
   "id": "7c75c99b-8bad-4219-a47e-d3d2ea12c2c7",
   "metadata": {},
   "source": [
    "#### Output"
   ]
  },
  {
   "cell_type": "code",
   "execution_count": 25,
   "id": "818af2b8-df83-46e1-bd08-38b675d4df52",
   "metadata": {},
   "outputs": [
    {
     "data": {
      "text/plain": [
       "Loan_ID               object\n",
       "Gender                 int32\n",
       "Married                int32\n",
       "Dependents             int32\n",
       "Education              int32\n",
       "Self_Employed          int32\n",
       "ApplicantIncome        int64\n",
       "CoapplicantIncome    float64\n",
       "LoanAmount           float64\n",
       "Loan_Amount_Term     float64\n",
       "Credit_History       float64\n",
       "Property_Area          int32\n",
       "Loan_Status            int32\n",
       "dtype: object"
      ]
     },
     "execution_count": 25,
     "metadata": {},
     "output_type": "execute_result"
    }
   ],
   "source": [
    "filtered_train_test.dtypes"
   ]
  },
  {
   "cell_type": "markdown",
   "id": "7ae1b5a4-538e-4ddc-b34c-0c2fa604462f",
   "metadata": {},
   "source": [
    "### 3. Concatenating filtered and Blind datasets to get one final dataset"
   ]
  },
  {
   "cell_type": "code",
   "execution_count": 26,
   "id": "ea27957b-b543-41f2-99ca-281a4c735a6e",
   "metadata": {},
   "outputs": [],
   "source": [
    "ds = pd.concat([filtered_train_test, blind])"
   ]
  },
  {
   "cell_type": "markdown",
   "id": "1d491eae-7f4b-4696-ace2-7657a6aa637e",
   "metadata": {},
   "source": [
    "#### Output"
   ]
  },
  {
   "cell_type": "code",
   "execution_count": 27,
   "id": "ed6cfeae-66d9-48a0-8342-6f69335f0e06",
   "metadata": {},
   "outputs": [
    {
     "name": "stdout",
     "output_type": "stream",
     "text": [
      "<class 'pandas.core.frame.DataFrame'>\n",
      "Int64Index: 941 entries, 1 to 366\n",
      "Columns: 13 entries, Loan_ID to Loan_Status\n",
      "dtypes: float64(4), int32(7), int64(1), object(1)\n",
      "memory usage: 77.2+ KB\n"
     ]
    }
   ],
   "source": [
    "ds.info(verbose = False)"
   ]
  },
  {
   "cell_type": "markdown",
   "id": "5db2f8ee-e132-4e7c-8e97-0ffcd5ca66f1",
   "metadata": {},
   "source": [
    "## Task #3.3 — Transform data"
   ]
  },
  {
   "cell_type": "markdown",
   "id": "1a0c0096-cbd3-4ff4-b3f4-c6a5a323b267",
   "metadata": {},
   "source": [
    "### 1. Splitting final dataset randomly into training and testing datasets in proportions 70:30"
   ]
  },
  {
   "cell_type": "code",
   "execution_count": 28,
   "id": "2f402315-c503-4678-920d-fcc23a017ffc",
   "metadata": {},
   "outputs": [],
   "source": [
    "train, test = train_test_split(ds, test_size = 0.3, random_state = 47)"
   ]
  },
  {
   "cell_type": "markdown",
   "id": "1d8107f5-bd46-468c-b438-1ec021c38e4c",
   "metadata": {},
   "source": [
    "#### Output"
   ]
  },
  {
   "cell_type": "code",
   "execution_count": 30,
   "id": "efc9135c-0cc5-4ceb-af86-06f3643e6c22",
   "metadata": {},
   "outputs": [
    {
     "name": "stdout",
     "output_type": "stream",
     "text": [
      "\n",
      "----------------/ Train Data /----------------\n",
      "\n"
     ]
    },
    {
     "data": {
      "text/html": [
       "<div>\n",
       "<style scoped>\n",
       "    .dataframe tbody tr th:only-of-type {\n",
       "        vertical-align: middle;\n",
       "    }\n",
       "\n",
       "    .dataframe tbody tr th {\n",
       "        vertical-align: top;\n",
       "    }\n",
       "\n",
       "    .dataframe thead th {\n",
       "        text-align: right;\n",
       "    }\n",
       "</style>\n",
       "<table border=\"1\" class=\"dataframe\">\n",
       "  <thead>\n",
       "    <tr style=\"text-align: right;\">\n",
       "      <th></th>\n",
       "      <th>Loan_ID</th>\n",
       "      <th>Gender</th>\n",
       "      <th>Married</th>\n",
       "      <th>Dependents</th>\n",
       "      <th>Education</th>\n",
       "      <th>Self_Employed</th>\n",
       "      <th>ApplicantIncome</th>\n",
       "      <th>CoapplicantIncome</th>\n",
       "      <th>LoanAmount</th>\n",
       "      <th>Loan_Amount_Term</th>\n",
       "      <th>Credit_History</th>\n",
       "      <th>Property_Area</th>\n",
       "      <th>Loan_Status</th>\n",
       "    </tr>\n",
       "  </thead>\n",
       "  <tbody>\n",
       "    <tr>\n",
       "      <th>590</th>\n",
       "      <td>LP002928</td>\n",
       "      <td>1</td>\n",
       "      <td>1</td>\n",
       "      <td>0</td>\n",
       "      <td>0</td>\n",
       "      <td>0</td>\n",
       "      <td>3000</td>\n",
       "      <td>3416.0</td>\n",
       "      <td>56.0</td>\n",
       "      <td>180.0</td>\n",
       "      <td>1.0</td>\n",
       "      <td>1</td>\n",
       "      <td>1</td>\n",
       "    </tr>\n",
       "    <tr>\n",
       "      <th>417</th>\n",
       "      <td>LP002342</td>\n",
       "      <td>1</td>\n",
       "      <td>1</td>\n",
       "      <td>2</td>\n",
       "      <td>0</td>\n",
       "      <td>1</td>\n",
       "      <td>1600</td>\n",
       "      <td>20000.0</td>\n",
       "      <td>239.0</td>\n",
       "      <td>360.0</td>\n",
       "      <td>1.0</td>\n",
       "      <td>2</td>\n",
       "      <td>0</td>\n",
       "    </tr>\n",
       "    <tr>\n",
       "      <th>170</th>\n",
       "      <td>LP001961</td>\n",
       "      <td>1</td>\n",
       "      <td>0</td>\n",
       "      <td>3</td>\n",
       "      <td>0</td>\n",
       "      <td>1</td>\n",
       "      <td>3958</td>\n",
       "      <td>0.0</td>\n",
       "      <td>110.0</td>\n",
       "      <td>360.0</td>\n",
       "      <td>1.0</td>\n",
       "      <td>0</td>\n",
       "      <td>0</td>\n",
       "    </tr>\n",
       "    <tr>\n",
       "      <th>263</th>\n",
       "      <td>LP001871</td>\n",
       "      <td>0</td>\n",
       "      <td>0</td>\n",
       "      <td>0</td>\n",
       "      <td>0</td>\n",
       "      <td>0</td>\n",
       "      <td>7200</td>\n",
       "      <td>0.0</td>\n",
       "      <td>120.0</td>\n",
       "      <td>360.0</td>\n",
       "      <td>1.0</td>\n",
       "      <td>0</td>\n",
       "      <td>1</td>\n",
       "    </tr>\n",
       "    <tr>\n",
       "      <th>79</th>\n",
       "      <td>LP001419</td>\n",
       "      <td>1</td>\n",
       "      <td>1</td>\n",
       "      <td>3</td>\n",
       "      <td>0</td>\n",
       "      <td>0</td>\n",
       "      <td>7950</td>\n",
       "      <td>0.0</td>\n",
       "      <td>185.0</td>\n",
       "      <td>360.0</td>\n",
       "      <td>1.0</td>\n",
       "      <td>2</td>\n",
       "      <td>1</td>\n",
       "    </tr>\n",
       "    <tr>\n",
       "      <th>...</th>\n",
       "      <td>...</td>\n",
       "      <td>...</td>\n",
       "      <td>...</td>\n",
       "      <td>...</td>\n",
       "      <td>...</td>\n",
       "      <td>...</td>\n",
       "      <td>...</td>\n",
       "      <td>...</td>\n",
       "      <td>...</td>\n",
       "      <td>...</td>\n",
       "      <td>...</td>\n",
       "      <td>...</td>\n",
       "      <td>...</td>\n",
       "    </tr>\n",
       "    <tr>\n",
       "      <th>10</th>\n",
       "      <td>LP001078</td>\n",
       "      <td>0</td>\n",
       "      <td>1</td>\n",
       "      <td>3</td>\n",
       "      <td>1</td>\n",
       "      <td>1</td>\n",
       "      <td>3091</td>\n",
       "      <td>0.0</td>\n",
       "      <td>90.0</td>\n",
       "      <td>360.0</td>\n",
       "      <td>1.0</td>\n",
       "      <td>2</td>\n",
       "      <td>0</td>\n",
       "    </tr>\n",
       "    <tr>\n",
       "      <th>371</th>\n",
       "      <td>LP002197</td>\n",
       "      <td>1</td>\n",
       "      <td>1</td>\n",
       "      <td>2</td>\n",
       "      <td>0</td>\n",
       "      <td>0</td>\n",
       "      <td>5185</td>\n",
       "      <td>0.0</td>\n",
       "      <td>155.0</td>\n",
       "      <td>360.0</td>\n",
       "      <td>1.0</td>\n",
       "      <td>1</td>\n",
       "      <td>1</td>\n",
       "    </tr>\n",
       "    <tr>\n",
       "      <th>455</th>\n",
       "      <td>LP002455</td>\n",
       "      <td>1</td>\n",
       "      <td>1</td>\n",
       "      <td>2</td>\n",
       "      <td>0</td>\n",
       "      <td>0</td>\n",
       "      <td>3859</td>\n",
       "      <td>0.0</td>\n",
       "      <td>96.0</td>\n",
       "      <td>360.0</td>\n",
       "      <td>1.0</td>\n",
       "      <td>1</td>\n",
       "      <td>1</td>\n",
       "    </tr>\n",
       "    <tr>\n",
       "      <th>328</th>\n",
       "      <td>LP002806</td>\n",
       "      <td>1</td>\n",
       "      <td>1</td>\n",
       "      <td>3</td>\n",
       "      <td>0</td>\n",
       "      <td>0</td>\n",
       "      <td>6958</td>\n",
       "      <td>1411.0</td>\n",
       "      <td>150.0</td>\n",
       "      <td>360.0</td>\n",
       "      <td>1.0</td>\n",
       "      <td>0</td>\n",
       "      <td>1</td>\n",
       "    </tr>\n",
       "    <tr>\n",
       "      <th>193</th>\n",
       "      <td>LP001658</td>\n",
       "      <td>1</td>\n",
       "      <td>0</td>\n",
       "      <td>0</td>\n",
       "      <td>0</td>\n",
       "      <td>0</td>\n",
       "      <td>3858</td>\n",
       "      <td>0.0</td>\n",
       "      <td>76.0</td>\n",
       "      <td>360.0</td>\n",
       "      <td>1.0</td>\n",
       "      <td>1</td>\n",
       "      <td>1</td>\n",
       "    </tr>\n",
       "  </tbody>\n",
       "</table>\n",
       "<p>658 rows × 13 columns</p>\n",
       "</div>"
      ],
      "text/plain": [
       "      Loan_ID  Gender  Married  Dependents  Education  Self_Employed  \\\n",
       "590  LP002928       1        1           0          0              0   \n",
       "417  LP002342       1        1           2          0              1   \n",
       "170  LP001961       1        0           3          0              1   \n",
       "263  LP001871       0        0           0          0              0   \n",
       "79   LP001419       1        1           3          0              0   \n",
       "..        ...     ...      ...         ...        ...            ...   \n",
       "10   LP001078       0        1           3          1              1   \n",
       "371  LP002197       1        1           2          0              0   \n",
       "455  LP002455       1        1           2          0              0   \n",
       "328  LP002806       1        1           3          0              0   \n",
       "193  LP001658       1        0           0          0              0   \n",
       "\n",
       "     ApplicantIncome  CoapplicantIncome  LoanAmount  Loan_Amount_Term  \\\n",
       "590             3000             3416.0        56.0             180.0   \n",
       "417             1600            20000.0       239.0             360.0   \n",
       "170             3958                0.0       110.0             360.0   \n",
       "263             7200                0.0       120.0             360.0   \n",
       "79              7950                0.0       185.0             360.0   \n",
       "..               ...                ...         ...               ...   \n",
       "10              3091                0.0        90.0             360.0   \n",
       "371             5185                0.0       155.0             360.0   \n",
       "455             3859                0.0        96.0             360.0   \n",
       "328             6958             1411.0       150.0             360.0   \n",
       "193             3858                0.0        76.0             360.0   \n",
       "\n",
       "     Credit_History  Property_Area  Loan_Status  \n",
       "590             1.0              1            1  \n",
       "417             1.0              2            0  \n",
       "170             1.0              0            0  \n",
       "263             1.0              0            1  \n",
       "79              1.0              2            1  \n",
       "..              ...            ...          ...  \n",
       "10              1.0              2            0  \n",
       "371             1.0              1            1  \n",
       "455             1.0              1            1  \n",
       "328             1.0              0            1  \n",
       "193             1.0              1            1  \n",
       "\n",
       "[658 rows x 13 columns]"
      ]
     },
     "execution_count": 30,
     "metadata": {},
     "output_type": "execute_result"
    }
   ],
   "source": [
    "print('\\n----------------/ Train Data /----------------\\n')\n",
    "train"
   ]
  },
  {
   "cell_type": "code",
   "execution_count": 31,
   "id": "82845a37-7d41-4f57-934a-138bb446f489",
   "metadata": {},
   "outputs": [
    {
     "name": "stdout",
     "output_type": "stream",
     "text": [
      "\n",
      "\n",
      "----------------/ Test Data /----------------\n",
      "\n"
     ]
    },
    {
     "data": {
      "text/html": [
       "<div>\n",
       "<style scoped>\n",
       "    .dataframe tbody tr th:only-of-type {\n",
       "        vertical-align: middle;\n",
       "    }\n",
       "\n",
       "    .dataframe tbody tr th {\n",
       "        vertical-align: top;\n",
       "    }\n",
       "\n",
       "    .dataframe thead th {\n",
       "        text-align: right;\n",
       "    }\n",
       "</style>\n",
       "<table border=\"1\" class=\"dataframe\">\n",
       "  <thead>\n",
       "    <tr style=\"text-align: right;\">\n",
       "      <th></th>\n",
       "      <th>Loan_ID</th>\n",
       "      <th>Gender</th>\n",
       "      <th>Married</th>\n",
       "      <th>Dependents</th>\n",
       "      <th>Education</th>\n",
       "      <th>Self_Employed</th>\n",
       "      <th>ApplicantIncome</th>\n",
       "      <th>CoapplicantIncome</th>\n",
       "      <th>LoanAmount</th>\n",
       "      <th>Loan_Amount_Term</th>\n",
       "      <th>Credit_History</th>\n",
       "      <th>Property_Area</th>\n",
       "      <th>Loan_Status</th>\n",
       "    </tr>\n",
       "  </thead>\n",
       "  <tbody>\n",
       "    <tr>\n",
       "      <th>477</th>\n",
       "      <td>LP002530</td>\n",
       "      <td>1</td>\n",
       "      <td>0</td>\n",
       "      <td>2</td>\n",
       "      <td>0</td>\n",
       "      <td>1</td>\n",
       "      <td>2873</td>\n",
       "      <td>1872.0</td>\n",
       "      <td>132.0</td>\n",
       "      <td>360.00000</td>\n",
       "      <td>0.0</td>\n",
       "      <td>1</td>\n",
       "      <td>1</td>\n",
       "    </tr>\n",
       "    <tr>\n",
       "      <th>235</th>\n",
       "      <td>LP001784</td>\n",
       "      <td>1</td>\n",
       "      <td>1</td>\n",
       "      <td>1</td>\n",
       "      <td>0</td>\n",
       "      <td>0</td>\n",
       "      <td>5500</td>\n",
       "      <td>1260.0</td>\n",
       "      <td>170.0</td>\n",
       "      <td>360.00000</td>\n",
       "      <td>1.0</td>\n",
       "      <td>0</td>\n",
       "      <td>1</td>\n",
       "    </tr>\n",
       "    <tr>\n",
       "      <th>57</th>\n",
       "      <td>LP001321</td>\n",
       "      <td>0</td>\n",
       "      <td>0</td>\n",
       "      <td>0</td>\n",
       "      <td>0</td>\n",
       "      <td>1</td>\n",
       "      <td>3613</td>\n",
       "      <td>3539.0</td>\n",
       "      <td>134.0</td>\n",
       "      <td>180.00000</td>\n",
       "      <td>1.0</td>\n",
       "      <td>1</td>\n",
       "      <td>0</td>\n",
       "    </tr>\n",
       "    <tr>\n",
       "      <th>84</th>\n",
       "      <td>LP001450</td>\n",
       "      <td>0</td>\n",
       "      <td>0</td>\n",
       "      <td>1</td>\n",
       "      <td>0</td>\n",
       "      <td>1</td>\n",
       "      <td>4456</td>\n",
       "      <td>0.0</td>\n",
       "      <td>131.0</td>\n",
       "      <td>180.00000</td>\n",
       "      <td>0.0</td>\n",
       "      <td>1</td>\n",
       "      <td>1</td>\n",
       "    </tr>\n",
       "    <tr>\n",
       "      <th>95</th>\n",
       "      <td>LP001499</td>\n",
       "      <td>0</td>\n",
       "      <td>0</td>\n",
       "      <td>3</td>\n",
       "      <td>0</td>\n",
       "      <td>1</td>\n",
       "      <td>6260</td>\n",
       "      <td>0.0</td>\n",
       "      <td>110.0</td>\n",
       "      <td>360.00000</td>\n",
       "      <td>1.0</td>\n",
       "      <td>1</td>\n",
       "      <td>1</td>\n",
       "    </tr>\n",
       "    <tr>\n",
       "      <th>...</th>\n",
       "      <td>...</td>\n",
       "      <td>...</td>\n",
       "      <td>...</td>\n",
       "      <td>...</td>\n",
       "      <td>...</td>\n",
       "      <td>...</td>\n",
       "      <td>...</td>\n",
       "      <td>...</td>\n",
       "      <td>...</td>\n",
       "      <td>...</td>\n",
       "      <td>...</td>\n",
       "      <td>...</td>\n",
       "      <td>...</td>\n",
       "    </tr>\n",
       "    <tr>\n",
       "      <th>180</th>\n",
       "      <td>LP001633</td>\n",
       "      <td>1</td>\n",
       "      <td>1</td>\n",
       "      <td>1</td>\n",
       "      <td>0</td>\n",
       "      <td>0</td>\n",
       "      <td>6400</td>\n",
       "      <td>7250.0</td>\n",
       "      <td>180.0</td>\n",
       "      <td>360.00000</td>\n",
       "      <td>0.0</td>\n",
       "      <td>2</td>\n",
       "      <td>0</td>\n",
       "    </tr>\n",
       "    <tr>\n",
       "      <th>45</th>\n",
       "      <td>LP001137</td>\n",
       "      <td>0</td>\n",
       "      <td>0</td>\n",
       "      <td>2</td>\n",
       "      <td>0</td>\n",
       "      <td>0</td>\n",
       "      <td>3410</td>\n",
       "      <td>0.0</td>\n",
       "      <td>88.0</td>\n",
       "      <td>342.35343</td>\n",
       "      <td>1.0</td>\n",
       "      <td>2</td>\n",
       "      <td>0</td>\n",
       "    </tr>\n",
       "    <tr>\n",
       "      <th>501</th>\n",
       "      <td>LP002606</td>\n",
       "      <td>0</td>\n",
       "      <td>0</td>\n",
       "      <td>0</td>\n",
       "      <td>0</td>\n",
       "      <td>0</td>\n",
       "      <td>3159</td>\n",
       "      <td>0.0</td>\n",
       "      <td>100.0</td>\n",
       "      <td>360.00000</td>\n",
       "      <td>1.0</td>\n",
       "      <td>1</td>\n",
       "      <td>1</td>\n",
       "    </tr>\n",
       "    <tr>\n",
       "      <th>172</th>\n",
       "      <td>LP001586</td>\n",
       "      <td>1</td>\n",
       "      <td>1</td>\n",
       "      <td>3</td>\n",
       "      <td>1</td>\n",
       "      <td>0</td>\n",
       "      <td>3522</td>\n",
       "      <td>0.0</td>\n",
       "      <td>81.0</td>\n",
       "      <td>180.00000</td>\n",
       "      <td>1.0</td>\n",
       "      <td>0</td>\n",
       "      <td>0</td>\n",
       "    </tr>\n",
       "    <tr>\n",
       "      <th>585</th>\n",
       "      <td>LP002912</td>\n",
       "      <td>1</td>\n",
       "      <td>1</td>\n",
       "      <td>1</td>\n",
       "      <td>0</td>\n",
       "      <td>0</td>\n",
       "      <td>4283</td>\n",
       "      <td>3000.0</td>\n",
       "      <td>172.0</td>\n",
       "      <td>84.00000</td>\n",
       "      <td>1.0</td>\n",
       "      <td>0</td>\n",
       "      <td>0</td>\n",
       "    </tr>\n",
       "  </tbody>\n",
       "</table>\n",
       "<p>283 rows × 13 columns</p>\n",
       "</div>"
      ],
      "text/plain": [
       "      Loan_ID  Gender  Married  Dependents  Education  Self_Employed  \\\n",
       "477  LP002530       1        0           2          0              1   \n",
       "235  LP001784       1        1           1          0              0   \n",
       "57   LP001321       0        0           0          0              1   \n",
       "84   LP001450       0        0           1          0              1   \n",
       "95   LP001499       0        0           3          0              1   \n",
       "..        ...     ...      ...         ...        ...            ...   \n",
       "180  LP001633       1        1           1          0              0   \n",
       "45   LP001137       0        0           2          0              0   \n",
       "501  LP002606       0        0           0          0              0   \n",
       "172  LP001586       1        1           3          1              0   \n",
       "585  LP002912       1        1           1          0              0   \n",
       "\n",
       "     ApplicantIncome  CoapplicantIncome  LoanAmount  Loan_Amount_Term  \\\n",
       "477             2873             1872.0       132.0         360.00000   \n",
       "235             5500             1260.0       170.0         360.00000   \n",
       "57              3613             3539.0       134.0         180.00000   \n",
       "84              4456                0.0       131.0         180.00000   \n",
       "95              6260                0.0       110.0         360.00000   \n",
       "..               ...                ...         ...               ...   \n",
       "180             6400             7250.0       180.0         360.00000   \n",
       "45              3410                0.0        88.0         342.35343   \n",
       "501             3159                0.0       100.0         360.00000   \n",
       "172             3522                0.0        81.0         180.00000   \n",
       "585             4283             3000.0       172.0          84.00000   \n",
       "\n",
       "     Credit_History  Property_Area  Loan_Status  \n",
       "477             0.0              1            1  \n",
       "235             1.0              0            1  \n",
       "57              1.0              1            0  \n",
       "84              0.0              1            1  \n",
       "95              1.0              1            1  \n",
       "..              ...            ...          ...  \n",
       "180             0.0              2            0  \n",
       "45              1.0              2            0  \n",
       "501             1.0              1            1  \n",
       "172             1.0              0            0  \n",
       "585             1.0              0            0  \n",
       "\n",
       "[283 rows x 13 columns]"
      ]
     },
     "execution_count": 31,
     "metadata": {},
     "output_type": "execute_result"
    }
   ],
   "source": [
    "print('\\n\\n----------------/ Test Data /----------------\\n')\n",
    "test"
   ]
  },
  {
   "cell_type": "markdown",
   "id": "25a8818d-8e2a-4f23-bc28-51fd87a7344a",
   "metadata": {},
   "source": [
    "### 2. Transforming the data using logarithmic function"
   ]
  },
  {
   "cell_type": "markdown",
   "id": "28ecc9d2-1cb4-429e-bd15-ba13ecb45b22",
   "metadata": {},
   "source": [
    "#### Initial output"
   ]
  },
  {
   "cell_type": "code",
   "execution_count": 32,
   "id": "40ee0407-14a4-4600-8332-b761f711b560",
   "metadata": {},
   "outputs": [
    {
     "data": {
      "text/plain": [
       "<AxesSubplot:xlabel='LoanAmount', ylabel='ApplicantIncome'>"
      ]
     },
     "execution_count": 32,
     "metadata": {},
     "output_type": "execute_result"
    },
    {
     "data": {
      "image/png": "[encoded data removed]",
      "text/plain": [
       "<Figure size 432x288 with 1 Axes>"
      ]
     },
     "metadata": {
      "needs_background": "light"
     },
     "output_type": "display_data"
    }
   ],
   "source": [
    "seaborn.scatterplot(x = filtered_train_test['LoanAmount'], y = filtered_train_test['ApplicantIncome'])"
   ]
  },
  {
   "cell_type": "markdown",
   "id": "55c32935-cc03-4162-ab6b-0f3835106d08",
   "metadata": {},
   "source": [
    "#### Input"
   ]
  },
  {
   "cell_type": "code",
   "execution_count": 33,
   "id": "fe4fe824-f654-4939-9fcf-47b065b66890",
   "metadata": {},
   "outputs": [],
   "source": [
    "filtered_train_test['LoanAmount_log'] = np.log(filtered_train_test['LoanAmount'])\n",
    "filtered_train_test['ApplicantIncome_log'] = np.log(filtered_train_test['ApplicantIncome'])"
   ]
  },
  {
   "cell_type": "markdown",
   "id": "c15ce30e-0a0d-42c6-9523-ad7613cfcb87",
   "metadata": {},
   "source": [
    "#### Output"
   ]
  },
  {
   "cell_type": "code",
   "execution_count": 34,
   "id": "dde703c3-9080-462b-b3a2-0435c7e37c2f",
   "metadata": {},
   "outputs": [
    {
     "data": {
      "text/plain": [
       "<AxesSubplot:xlabel='LoanAmount_log', ylabel='ApplicantIncome_log'>"
      ]
     },
     "execution_count": 34,
     "metadata": {},
     "output_type": "execute_result"
    },
    {
     "data": {
      "image/png": "[encoded data removed]",
      "text/plain": [
       "<Figure size 432x288 with 1 Axes>"
      ]
     },
     "metadata": {
      "needs_background": "light"
     },
     "output_type": "display_data"
    }
   ],
   "source": [
    "seaborn.scatterplot(x = filtered_train_test['LoanAmount_log'], y = filtered_train_test['ApplicantIncome_log'])"
   ]
  },
  {
   "cell_type": "markdown",
   "id": "29c6c3d1-23b6-43d8-9fed-7a679d0e5d98",
   "metadata": {},
   "source": [
    "# Task #4 — Apply K-fold cross-validation with visualization using different learning models"
   ]
  },
  {
   "cell_type": "markdown",
   "id": "d72606ea-77f0-44d9-b271-4c856c44de77",
   "metadata": {},
   "source": [
    "## Task #4.1 — Initiate generic function for making a classification model and accessing performance"
   ]
  },
  {
   "cell_type": "code",
   "execution_count": 241,
   "id": "d2702bfc-e7da-4b73-8e19-9539239b4d06",
   "metadata": {},
   "outputs": [],
   "source": [
    "def classification_model(model, data, predictors, outcome):\n",
    "    model.fit(data[predictors], data[outcome])  # Fit the model\n",
    "    predictions = model.predict(data[predictors]) # Make predictions on training set\n",
    "\n",
    "    accuracy = metrics.accuracy_score(predictions, data[outcome])  #Print accuracy\n",
    "    print (\"Accuracy : %s\" % \"{0:.3%}\".format(accuracy))\n",
    "    \n",
    "    skf = StratifiedKFold(n_splits = 10)  #Perform stratified k-fold cross-validation with 10 folds\n",
    "    skf.get_n_splits(data[predictors], data[outcome])\n",
    "    error = []\n",
    "\n",
    "    for train, test in skf.split(data[predictors], data[outcome]):\n",
    "        train_predictors = (data[predictors].iloc[train,:])  # Filter training data\n",
    "        train_target = data[outcome].iloc[train]  # The target we're using to train the algorithm\n",
    "        model.fit(train_predictors, train_target)  # Training the algorithm using the predictors and target\n",
    "        error.append(model.score(data[predictors].iloc[test,:], data[outcome].iloc[test]))  #Record error from each cross-validation run\n",
    "\n",
    "    print (\"Cross-Validation Score : %s\" % \"{0:.3%}\".format(np.mean(error)))\n",
    "    model.fit(data[predictors], data[outcome])  #Fit the model again so that it can be refered outside the function"
   ]
  },
  {
   "cell_type": "markdown",
   "id": "b4edd564-ac27-4173-90c5-bbf8029b3d69",
   "metadata": {},
   "source": [
    "## Task #4.2 — Explore LogisticRegression model"
   ]
  },
  {
   "cell_type": "markdown",
   "id": "49642421-4a70-43d7-8e73-68ba35eed855",
   "metadata": {},
   "source": [
    "#### Education"
   ]
  },
  {
   "cell_type": "code",
   "execution_count": 242,
   "id": "960e49de-c136-404f-9e54-edeaf57aa13c",
   "metadata": {},
   "outputs": [
    {
     "name": "stdout",
     "output_type": "stream",
     "text": [
      "Accuracy : 77.052%\n",
      "Cross-Validation Score : 77.051%\n"
     ]
    }
   ],
   "source": [
    "outcome_var = 'Education'\n",
    "model = LogisticRegression()\n",
    "predictor_var = ['LoanAmount']\n",
    "classification_model(model, train, predictor_var, outcome_var)"
   ]
  },
  {
   "cell_type": "markdown",
   "id": "8d52ba0e-3b25-4a93-80e5-eac795008366",
   "metadata": {},
   "source": [
    "#### Self_Employed"
   ]
  },
  {
   "cell_type": "code",
   "execution_count": 243,
   "id": "a362792d-f49f-4c2d-82e8-e5d8e718fe0d",
   "metadata": {},
   "outputs": [
    {
     "name": "stdout",
     "output_type": "stream",
     "text": [
      "Accuracy : 67.173%\n",
      "Cross-Validation Score : 67.175%\n"
     ]
    }
   ],
   "source": [
    "outcome_var = 'Self_Employed'\n",
    "model = LogisticRegression()\n",
    "predictor_var = ['ApplicantIncome', 'Credit_History', 'Loan_Status']\n",
    "classification_model(model, train, predictor_var, outcome_var)"
   ]
  },
  {
   "cell_type": "markdown",
   "id": "79ace7c2-c2ff-40c0-af4e-cdafc0f66858",
   "metadata": {},
   "source": [
    "#### Loan_Status"
   ]
  },
  {
   "cell_type": "code",
   "execution_count": 244,
   "id": "425fe881-c53e-4953-87b0-971fe74c0283",
   "metadata": {},
   "outputs": [
    {
     "name": "stdout",
     "output_type": "stream",
     "text": [
      "Accuracy : 65.502%\n",
      "Cross-Validation Score : 65.352%\n"
     ]
    }
   ],
   "source": [
    "outcome_var = 'Loan_Status'\n",
    "model = LogisticRegression()\n",
    "predictor_var = ['Education', 'Self_Employed', 'Credit_History']\n",
    "classification_model(model, train, predictor_var, outcome_var)"
   ]
  },
  {
   "cell_type": "markdown",
   "id": "2c718dcd-315d-40ed-bb78-684f0aa524fa",
   "metadata": {},
   "source": [
    "## Task #4.3 — Explore DecisionTreeClassifier model"
   ]
  },
  {
   "cell_type": "markdown",
   "id": "d6b39986-58a3-4b4b-bb6c-ee9a30bc3913",
   "metadata": {},
   "source": [
    "### 1. Exploring 'Education' target"
   ]
  },
  {
   "cell_type": "markdown",
   "id": "0fbb81de-ee28-4c7c-a107-063c7e149f1d",
   "metadata": {},
   "source": [
    "#### 1.1 Creating initial combination of original target and parameters"
   ]
  },
  {
   "cell_type": "code",
   "execution_count": 245,
   "id": "ddcbb7cc-ad42-49e8-b975-70d149afdac4",
   "metadata": {},
   "outputs": [
    {
     "data": {
      "text/html": [
       "<div>\n",
       "<style scoped>\n",
       "    .dataframe tbody tr th:only-of-type {\n",
       "        vertical-align: middle;\n",
       "    }\n",
       "\n",
       "    .dataframe tbody tr th {\n",
       "        vertical-align: top;\n",
       "    }\n",
       "\n",
       "    .dataframe thead th {\n",
       "        text-align: right;\n",
       "    }\n",
       "</style>\n",
       "<table border=\"1\" class=\"dataframe\">\n",
       "  <thead>\n",
       "    <tr style=\"text-align: right;\">\n",
       "      <th></th>\n",
       "      <th>Loan_ID</th>\n",
       "      <th>Gender</th>\n",
       "      <th>Married</th>\n",
       "      <th>Dependents</th>\n",
       "      <th>Education</th>\n",
       "      <th>Self_Employed</th>\n",
       "      <th>ApplicantIncome</th>\n",
       "      <th>CoapplicantIncome</th>\n",
       "      <th>LoanAmount</th>\n",
       "      <th>Loan_Amount_Term</th>\n",
       "      <th>Credit_History</th>\n",
       "      <th>Property_Area</th>\n",
       "      <th>Loan_Status</th>\n",
       "    </tr>\n",
       "  </thead>\n",
       "  <tbody>\n",
       "    <tr>\n",
       "      <th>1</th>\n",
       "      <td>LP001003</td>\n",
       "      <td>1</td>\n",
       "      <td>1</td>\n",
       "      <td>1</td>\n",
       "      <td>0</td>\n",
       "      <td>0</td>\n",
       "      <td>4583</td>\n",
       "      <td>1508.0</td>\n",
       "      <td>128.0</td>\n",
       "      <td>360.0</td>\n",
       "      <td>1.0</td>\n",
       "      <td>0</td>\n",
       "      <td>0</td>\n",
       "    </tr>\n",
       "    <tr>\n",
       "      <th>2</th>\n",
       "      <td>LP001005</td>\n",
       "      <td>1</td>\n",
       "      <td>1</td>\n",
       "      <td>0</td>\n",
       "      <td>0</td>\n",
       "      <td>1</td>\n",
       "      <td>3000</td>\n",
       "      <td>0.0</td>\n",
       "      <td>66.0</td>\n",
       "      <td>360.0</td>\n",
       "      <td>1.0</td>\n",
       "      <td>2</td>\n",
       "      <td>1</td>\n",
       "    </tr>\n",
       "    <tr>\n",
       "      <th>3</th>\n",
       "      <td>LP001006</td>\n",
       "      <td>1</td>\n",
       "      <td>1</td>\n",
       "      <td>0</td>\n",
       "      <td>1</td>\n",
       "      <td>0</td>\n",
       "      <td>2583</td>\n",
       "      <td>2358.0</td>\n",
       "      <td>120.0</td>\n",
       "      <td>360.0</td>\n",
       "      <td>1.0</td>\n",
       "      <td>2</td>\n",
       "      <td>1</td>\n",
       "    </tr>\n",
       "    <tr>\n",
       "      <th>4</th>\n",
       "      <td>LP001008</td>\n",
       "      <td>1</td>\n",
       "      <td>0</td>\n",
       "      <td>0</td>\n",
       "      <td>0</td>\n",
       "      <td>0</td>\n",
       "      <td>6000</td>\n",
       "      <td>0.0</td>\n",
       "      <td>141.0</td>\n",
       "      <td>360.0</td>\n",
       "      <td>1.0</td>\n",
       "      <td>2</td>\n",
       "      <td>1</td>\n",
       "    </tr>\n",
       "    <tr>\n",
       "      <th>5</th>\n",
       "      <td>LP001011</td>\n",
       "      <td>1</td>\n",
       "      <td>1</td>\n",
       "      <td>2</td>\n",
       "      <td>0</td>\n",
       "      <td>1</td>\n",
       "      <td>5417</td>\n",
       "      <td>4196.0</td>\n",
       "      <td>267.0</td>\n",
       "      <td>360.0</td>\n",
       "      <td>1.0</td>\n",
       "      <td>2</td>\n",
       "      <td>1</td>\n",
       "    </tr>\n",
       "  </tbody>\n",
       "</table>\n",
       "</div>"
      ],
      "text/plain": [
       "    Loan_ID  Gender  Married  Dependents  Education  Self_Employed  \\\n",
       "1  LP001003       1        1           1          0              0   \n",
       "2  LP001005       1        1           0          0              1   \n",
       "3  LP001006       1        1           0          1              0   \n",
       "4  LP001008       1        0           0          0              0   \n",
       "5  LP001011       1        1           2          0              1   \n",
       "\n",
       "   ApplicantIncome  CoapplicantIncome  LoanAmount  Loan_Amount_Term  \\\n",
       "1             4583             1508.0       128.0             360.0   \n",
       "2             3000                0.0        66.0             360.0   \n",
       "3             2583             2358.0       120.0             360.0   \n",
       "4             6000                0.0       141.0             360.0   \n",
       "5             5417             4196.0       267.0             360.0   \n",
       "\n",
       "   Credit_History  Property_Area  Loan_Status  \n",
       "1             1.0              0            0  \n",
       "2             1.0              2            1  \n",
       "3             1.0              2            1  \n",
       "4             1.0              2            1  \n",
       "5             1.0              2            1  "
      ]
     },
     "execution_count": 245,
     "metadata": {},
     "output_type": "execute_result"
    }
   ],
   "source": [
    "ds.head(5)"
   ]
  },
  {
   "cell_type": "code",
   "execution_count": 299,
   "id": "b6cc15f1-da57-4617-a2b5-95e9c62f7ee3",
   "metadata": {},
   "outputs": [
    {
     "name": "stdout",
     "output_type": "stream",
     "text": [
      "Accuracy : 99.848%\n",
      "Cross-Validation Score : 66.564%\n"
     ]
    }
   ],
   "source": [
    "outcome_var = 'Education'\n",
    "model = DecisionTreeClassifier()\n",
    "predictor_var = ['Married', 'Self_Employed', 'ApplicantIncome', 'Credit_History', 'Property_Area', 'Loan_Status']\n",
    "classification_model(model, train ,predictor_var, outcome_var)"
   ]
  },
  {
   "cell_type": "markdown",
   "id": "6a23ede0-d380-489c-85b0-99a05476e265",
   "metadata": {},
   "source": [
    "#### 1.2 Creating a series with feature importances"
   ]
  },
  {
   "cell_type": "code",
   "execution_count": 300,
   "id": "0e767c3d-16b3-4f3c-8bbc-cace1978ce8e",
   "metadata": {},
   "outputs": [
    {
     "name": "stdout",
     "output_type": "stream",
     "text": [
      "ApplicantIncome    0.646010\n",
      "Loan_Status        0.082413\n",
      "Property_Area      0.076914\n",
      "Self_Employed      0.075481\n",
      "Married            0.063310\n",
      "Credit_History     0.055872\n",
      "dtype: float64\n"
     ]
    }
   ],
   "source": [
    "featimp = pd.Series(model.feature_importances_, index = predictor_var).sort_values(ascending = False)\n",
    "print (featimp)"
   ]
  },
  {
   "cell_type": "markdown",
   "id": "fe48c473-5ba3-4ec6-a0f7-d145113ae918",
   "metadata": {},
   "source": [
    "#### 1.3 Visualizing a series with feature importances"
   ]
  },
  {
   "cell_type": "code",
   "execution_count": 301,
   "id": "b473da3b-fd13-42bb-8235-29950a318b3f",
   "metadata": {},
   "outputs": [
    {
     "data": {
      "text/plain": [
       "<AxesSubplot:>"
      ]
     },
     "execution_count": 301,
     "metadata": {},
     "output_type": "execute_result"
    },
    {
     "data": {
      "image/png": "[encoded data removed]",
      "text/plain": [
       "<Figure size 432x288 with 1 Axes>"
      ]
     },
     "metadata": {
      "needs_background": "light"
     },
     "output_type": "display_data"
    }
   ],
   "source": [
    "featimp = pd.Series(model.feature_importances_, index = predictor_var).sort_values(ascending = False)\n",
    "featimp.nlargest(10).plot(kind = 'bar')"
   ]
  },
  {
   "cell_type": "markdown",
   "id": "617b4ff9-e1a2-4ef9-9f55-c9167984ff68",
   "metadata": {},
   "source": [
    "#### 1.4 Improving learning perfomance of the original target by choosing the best combination of parameters"
   ]
  },
  {
   "cell_type": "code",
   "execution_count": 308,
   "id": "f6f0b6ff-e9cc-4f6d-8d5a-6025f0f6bba7",
   "metadata": {},
   "outputs": [
    {
     "name": "stdout",
     "output_type": "stream",
     "text": [
      "Accuracy : 97.568%\n",
      "Cross-Validation Score : 67.331%\n"
     ]
    }
   ],
   "source": [
    "outcome_var = 'Education'\n",
    "model = DecisionTreeClassifier()\n",
    "predictor_var = ['ApplicantIncome', 'Loan_Status']\n",
    "classification_model(model, train ,predictor_var, outcome_var)"
   ]
  },
  {
   "cell_type": "markdown",
   "id": "c50b0e7e-6b5a-4ec8-b5d3-b6ec1b81605b",
   "metadata": {},
   "source": [
    "### 2. Exploring 'Self-Employed' target"
   ]
  },
  {
   "cell_type": "markdown",
   "id": "4d424b1b-0bd2-4005-a73b-c07589788013",
   "metadata": {},
   "source": [
    "#### 2.1 Creating initial combination of original target and parameters"
   ]
  },
  {
   "cell_type": "code",
   "execution_count": 314,
   "id": "adb9bc5c-a077-4f8c-af21-81b7a6fda41d",
   "metadata": {},
   "outputs": [
    {
     "name": "stdout",
     "output_type": "stream",
     "text": [
      "Accuracy : 99.392%\n",
      "Cross-Validation Score : 56.382%\n"
     ]
    }
   ],
   "source": [
    "outcome_var = 'Self_Employed'\n",
    "model = DecisionTreeClassifier()\n",
    "predictor_var = ['Married', 'Education', 'ApplicantIncome', 'Property_Area', 'Loan_Status']\n",
    "classification_model(model, train, predictor_var, outcome_var)"
   ]
  },
  {
   "cell_type": "markdown",
   "id": "f2407319-b69b-42ee-bd29-cec8649b42bd",
   "metadata": {},
   "source": [
    "#### 2.2 Creating a series with feature importances"
   ]
  },
  {
   "cell_type": "code",
   "execution_count": 315,
   "id": "a241a609-7075-4aa1-803f-02d9d914b38c",
   "metadata": {},
   "outputs": [
    {
     "name": "stdout",
     "output_type": "stream",
     "text": [
      "ApplicantIncome    0.743534\n",
      "Property_Area      0.097863\n",
      "Married            0.073843\n",
      "Education          0.057386\n",
      "Loan_Status        0.027374\n",
      "dtype: float64\n"
     ]
    }
   ],
   "source": [
    "featimp = pd.Series(model.feature_importances_, index = predictor_var).sort_values(ascending = False)\n",
    "print (featimp)"
   ]
  },
  {
   "cell_type": "markdown",
   "id": "fd737164-f2ba-4f50-bd19-0c1134011aa8",
   "metadata": {},
   "source": [
    "#### 2.3 Visualizing a series with feature importances"
   ]
  },
  {
   "cell_type": "code",
   "execution_count": 316,
   "id": "6c94298a-a120-4f7a-8eba-12580628d3ff",
   "metadata": {},
   "outputs": [
    {
     "data": {
      "text/plain": [
       "<AxesSubplot:>"
      ]
     },
     "execution_count": 316,
     "metadata": {},
     "output_type": "execute_result"
    },
    {
     "data": {
      "image/png": "[encoded data removed]",
      "text/plain": [
       "<Figure size 432x288 with 1 Axes>"
      ]
     },
     "metadata": {
      "needs_background": "light"
     },
     "output_type": "display_data"
    }
   ],
   "source": [
    "featimp = pd.Series(model.feature_importances_, index = predictor_var).sort_values(ascending = False)\n",
    "featimp.nlargest(10).plot(kind = 'bar')"
   ]
  },
  {
   "cell_type": "markdown",
   "id": "61e118b8-e980-4189-b434-f532997b45f1",
   "metadata": {},
   "source": [
    "#### 2.4 Improving learning perfomance of the original target by choosing the best combination of parameters"
   ]
  },
  {
   "cell_type": "code",
   "execution_count": 322,
   "id": "3d57b3dd-fb2d-4ced-87e6-03e38b97b3d5",
   "metadata": {},
   "outputs": [
    {
     "name": "stdout",
     "output_type": "stream",
     "text": [
      "Accuracy : 97.416%\n",
      "Cross-Validation Score : 57.904%\n"
     ]
    }
   ],
   "source": [
    "outcome_var = 'Self_Employed'\n",
    "model = DecisionTreeClassifier()\n",
    "predictor_var = ['ApplicantIncome', 'Property_Area']\n",
    "classification_model(model, train, predictor_var, outcome_var)"
   ]
  },
  {
   "cell_type": "markdown",
   "id": "db051806-96be-4512-9c6f-b42110a6a90f",
   "metadata": {},
   "source": [
    "### 3. Exploring 'Loan Status' target"
   ]
  },
  {
   "cell_type": "markdown",
   "id": "2cff6d63-3b82-4be5-95ec-f2680aff7197",
   "metadata": {},
   "source": [
    "#### 3.1 Creating initial combination of original target and parameters"
   ]
  },
  {
   "cell_type": "code",
   "execution_count": 323,
   "id": "2bd72c4c-571a-4e10-b748-8279ef9324aa",
   "metadata": {},
   "outputs": [
    {
     "name": "stdout",
     "output_type": "stream",
     "text": [
      "Accuracy : 93.769%\n",
      "Cross-Validation Score : 56.371%\n"
     ]
    }
   ],
   "source": [
    "outcome_var = 'Loan_Status'\n",
    "model = DecisionTreeClassifier()\n",
    "predictor_var = ['Gender', 'Self_Employed', 'LoanAmount', 'Credit_History', 'Property_Area']\n",
    "classification_model(model, train ,predictor_var, outcome_var)"
   ]
  },
  {
   "cell_type": "markdown",
   "id": "d95a4ce1-f3a8-4586-98d7-aecae5cd0e2f",
   "metadata": {},
   "source": [
    "#### 3.2 Creating a series with feature importances"
   ]
  },
  {
   "cell_type": "code",
   "execution_count": 324,
   "id": "3a86fcb2-30d7-4842-afe4-27bc8363e321",
   "metadata": {},
   "outputs": [
    {
     "name": "stdout",
     "output_type": "stream",
     "text": [
      "LoanAmount        0.688278\n",
      "Property_Area     0.090537\n",
      "Credit_History    0.088645\n",
      "Self_Employed     0.076166\n",
      "Gender            0.056374\n",
      "dtype: float64\n"
     ]
    }
   ],
   "source": [
    "featimp = pd.Series(model.feature_importances_, index = predictor_var).sort_values(ascending = False)\n",
    "print (featimp)"
   ]
  },
  {
   "cell_type": "markdown",
   "id": "91b9dfef-ec3d-4aeb-97a9-1b379cf4b824",
   "metadata": {},
   "source": [
    "#### 3.3 Visualizing a series with feature importances"
   ]
  },
  {
   "cell_type": "code",
   "execution_count": 325,
   "id": "55f4e06f-c749-42c4-be8a-eee3c626d626",
   "metadata": {},
   "outputs": [
    {
     "data": {
      "text/plain": [
       "<AxesSubplot:>"
      ]
     },
     "execution_count": 325,
     "metadata": {},
     "output_type": "execute_result"
    },
    {
     "data": {
      "image/png": "[encoded data removed]",
      "text/plain": [
       "<Figure size 432x288 with 1 Axes>"
      ]
     },
     "metadata": {
      "needs_background": "light"
     },
     "output_type": "display_data"
    }
   ],
   "source": [
    "featimp = pd.Series(model.feature_importances_, index = predictor_var).sort_values(ascending = False)\n",
    "featimp.nlargest(10).plot(kind = 'bar')"
   ]
  },
  {
   "cell_type": "markdown",
   "id": "722a87b4-02ba-40e3-ac56-3768ac3ad8e8",
   "metadata": {},
   "source": [
    "#### 3.4 Improving learning perfomance of the original target by choosing the best combination of parameters"
   ]
  },
  {
   "cell_type": "code",
   "execution_count": 330,
   "id": "11b18eec-f21b-467b-aacc-83b2eee0831b",
   "metadata": {},
   "outputs": [
    {
     "name": "stdout",
     "output_type": "stream",
     "text": [
      "Accuracy : 84.802%\n",
      "Cross-Validation Score : 50.776%\n"
     ]
    }
   ],
   "source": [
    "outcome_var = 'Loan_Status'\n",
    "model = DecisionTreeClassifier()\n",
    "predictor_var = ['LoanAmount', 'Credit_History', 'Property_Area']\n",
    "classification_model(model, train ,predictor_var, outcome_var)"
   ]
  },
  {
   "cell_type": "markdown",
   "id": "39d79f3b-7f87-4c5c-a14b-68399ed53e96",
   "metadata": {},
   "source": [
    "## Task #4.4 — Explore RandomForestClassifier model"
   ]
  },
  {
   "cell_type": "markdown",
   "id": "f60375de-5a80-4d0c-aaba-857b869500d0",
   "metadata": {},
   "source": [
    "### 1. Exploring 'Education' target"
   ]
  },
  {
   "cell_type": "markdown",
   "id": "f6cee6fc-c01c-40f2-9418-19530266dd97",
   "metadata": {},
   "source": [
    "#### 1.1 Creating initial combination of original target and parameters"
   ]
  },
  {
   "cell_type": "code",
   "execution_count": 331,
   "id": "225a0229-49fa-45c4-bc4c-12355f9b3b86",
   "metadata": {},
   "outputs": [
    {
     "name": "stdout",
     "output_type": "stream",
     "text": [
      "Accuracy : 80.091%\n",
      "Cross-Validation Score : 76.289%\n"
     ]
    }
   ],
   "source": [
    "outcome_var = 'Education'\n",
    "model = RandomForestClassifier(n_estimators = 150, min_samples_split = 15)\n",
    "predictor_var = ['Married', 'Self_Employed', 'ApplicantIncome', 'Credit_History', 'Property_Area', 'Loan_Status']\n",
    "classification_model(model, train ,predictor_var, outcome_var)"
   ]
  },
  {
   "cell_type": "markdown",
   "id": "1a11a16d-50b4-4687-bf79-095f21a30d39",
   "metadata": {},
   "source": [
    "#### 1.2 Creating a series with feature importances"
   ]
  },
  {
   "cell_type": "code",
   "execution_count": 332,
   "id": "fbb8e578-5449-4c9a-8dab-34d08ee64626",
   "metadata": {},
   "outputs": [
    {
     "name": "stdout",
     "output_type": "stream",
     "text": [
      "ApplicantIncome    0.655073\n",
      "Credit_History     0.093088\n",
      "Property_Area      0.088056\n",
      "Married            0.056349\n",
      "Loan_Status        0.054392\n",
      "Self_Employed      0.053043\n",
      "dtype: float64\n"
     ]
    }
   ],
   "source": [
    "featimp = pd.Series(model.feature_importances_, index = predictor_var).sort_values(ascending = False)\n",
    "print (featimp)"
   ]
  },
  {
   "cell_type": "markdown",
   "id": "6e8672da-fbd0-4293-bc51-b38573812ae8",
   "metadata": {},
   "source": [
    "#### 1.3 Visualizing a series with feature importances"
   ]
  },
  {
   "cell_type": "code",
   "execution_count": 334,
   "id": "b303661d-3ae0-4c6b-979f-76087922bcbf",
   "metadata": {},
   "outputs": [
    {
     "data": {
      "text/plain": [
       "<AxesSubplot:>"
      ]
     },
     "execution_count": 334,
     "metadata": {},
     "output_type": "execute_result"
    },
    {
     "data": {
      "image/png": "[encoded data removed]",
      "text/plain": [
       "<Figure size 432x288 with 1 Axes>"
      ]
     },
     "metadata": {
      "needs_background": "light"
     },
     "output_type": "display_data"
    }
   ],
   "source": [
    "featimp = pd.Series(model.feature_importances_, index = predictor_var).sort_values(ascending = False)\n",
    "featimp.nlargest(10).plot(kind = 'bar')"
   ]
  },
  {
   "cell_type": "markdown",
   "id": "f4446b2c-12fb-4b4a-8182-c9ff12c1b701",
   "metadata": {},
   "source": [
    "#### 1.4 Improving learning perfomance of the original target by choosing the best combination of parameters"
   ]
  },
  {
   "cell_type": "code",
   "execution_count": 342,
   "id": "33ac943c-0191-40ef-a0ea-fee63d444de7",
   "metadata": {},
   "outputs": [
    {
     "name": "stdout",
     "output_type": "stream",
     "text": [
      "Accuracy : 80.547%\n",
      "Cross-Validation Score : 75.986%\n"
     ]
    }
   ],
   "source": [
    "outcome_var = 'Education'\n",
    "model = RandomForestClassifier(n_estimators = 150, min_samples_split = 15)\n",
    "predictor_var = ['Married', 'ApplicantIncome', 'Credit_History', 'Property_Area']\n",
    "classification_model(model, train ,predictor_var, outcome_var)"
   ]
  },
  {
   "cell_type": "markdown",
   "id": "c39e72ba-0124-4b83-9e28-e7805f892ed9",
   "metadata": {},
   "source": [
    "### 2. Exploring 'Self-Employed' target"
   ]
  },
  {
   "cell_type": "markdown",
   "id": "1a93dde5-b5d4-4d52-aa26-5f712ac63798",
   "metadata": {},
   "source": [
    "#### 2.1 Creating initial combination of original target and parameters"
   ]
  },
  {
   "cell_type": "code",
   "execution_count": 343,
   "id": "433adab5-d1a3-4b9a-80c6-8eacd8986e9e",
   "metadata": {},
   "outputs": [
    {
     "name": "stdout",
     "output_type": "stream",
     "text": [
      "Accuracy : 75.228%\n",
      "Cross-Validation Score : 65.648%\n"
     ]
    }
   ],
   "source": [
    "outcome_var = 'Self_Employed'\n",
    "model = RandomForestClassifier(n_estimators = 150, min_samples_split = 15)\n",
    "predictor_var = ['Married', 'Education', 'ApplicantIncome', 'Property_Area', 'Loan_Status']\n",
    "classification_model(model, train, predictor_var, outcome_var)"
   ]
  },
  {
   "cell_type": "markdown",
   "id": "4129977a-d023-40ed-a7c2-6be738de5cb6",
   "metadata": {},
   "source": [
    "#### 2.2 Creating a series with feature importances"
   ]
  },
  {
   "cell_type": "code",
   "execution_count": 344,
   "id": "664273e3-5b99-4478-b854-8e15ec59eb66",
   "metadata": {},
   "outputs": [
    {
     "name": "stdout",
     "output_type": "stream",
     "text": [
      "ApplicantIncome    0.751995\n",
      "Property_Area      0.099754\n",
      "Loan_Status        0.050339\n",
      "Education          0.050068\n",
      "Married            0.047844\n",
      "dtype: float64\n"
     ]
    }
   ],
   "source": [
    "featimp = pd.Series(model.feature_importances_, index = predictor_var).sort_values(ascending = False)\n",
    "print (featimp)"
   ]
  },
  {
   "cell_type": "markdown",
   "id": "ea4e0df5-aabf-43e9-8002-66a4f2d2c17b",
   "metadata": {},
   "source": [
    "#### 2.3 Visualizing a series with feature importances"
   ]
  },
  {
   "cell_type": "code",
   "execution_count": 346,
   "id": "fa3583a0-f58e-40b9-a6fa-84c47bac1269",
   "metadata": {},
   "outputs": [
    {
     "data": {
      "text/plain": [
       "<AxesSubplot:>"
      ]
     },
     "execution_count": 346,
     "metadata": {},
     "output_type": "execute_result"
    },
    {
     "data": {
      "image/png": "[encoded data removed]",
      "text/plain": [
       "<Figure size 432x288 with 1 Axes>"
      ]
     },
     "metadata": {
      "needs_background": "light"
     },
     "output_type": "display_data"
    }
   ],
   "source": [
    "featimp = pd.Series(model.feature_importances_, index = predictor_var).sort_values(ascending = False)\n",
    "featimp.nlargest(10).plot(kind = 'bar')"
   ]
  },
  {
   "cell_type": "markdown",
   "id": "41604bd8-f520-4a2d-a314-51974ee2e26a",
   "metadata": {},
   "source": [
    "#### 2.4 Improving learning perfomance of the original target by choosing the best combination of parameters"
   ]
  },
  {
   "cell_type": "code",
   "execution_count": 351,
   "id": "58c5d488-c312-4b83-acfc-adcddbcc2bac",
   "metadata": {},
   "outputs": [
    {
     "name": "stdout",
     "output_type": "stream",
     "text": [
      "Accuracy : 78.723%\n",
      "Cross-Validation Score : 61.086%\n"
     ]
    }
   ],
   "source": [
    "outcome_var = 'Self_Employed'\n",
    "model = RandomForestClassifier(n_estimators = 150, min_samples_split = 15)\n",
    "predictor_var = ['ApplicantIncome', 'Property_Area', 'Loan_Status']\n",
    "classification_model(model, train, predictor_var, outcome_var)"
   ]
  },
  {
   "cell_type": "markdown",
   "id": "dd738a6d-c13a-48de-8b44-37ab53e5a696",
   "metadata": {},
   "source": [
    "### 3. Exploring 'Loan Status' target"
   ]
  },
  {
   "cell_type": "markdown",
   "id": "edab12cf-0c6e-4aba-94db-837950570270",
   "metadata": {},
   "source": [
    "#### 3.1 Creating initial combination of original target and parameters"
   ]
  },
  {
   "cell_type": "code",
   "execution_count": 353,
   "id": "9615ecb7-e999-4304-8957-05d1f3548c3d",
   "metadata": {},
   "outputs": [
    {
     "name": "stdout",
     "output_type": "stream",
     "text": [
      "Accuracy : 78.116%\n",
      "Cross-Validation Score : 61.692%\n"
     ]
    }
   ],
   "source": [
    "outcome_var = 'Loan_Status'\n",
    "model = RandomForestClassifier(n_estimators = 150, min_samples_split = 15)\n",
    "predictor_var = ['Gender', 'Self_Employed', 'LoanAmount', 'Credit_History', 'Property_Area']\n",
    "classification_model(model, train, predictor_var, outcome_var)"
   ]
  },
  {
   "cell_type": "markdown",
   "id": "b06fd25f-e667-458a-8a45-522a240d6b5a",
   "metadata": {},
   "source": [
    "#### 3.2 Creating a series with feature importances"
   ]
  },
  {
   "cell_type": "code",
   "execution_count": 357,
   "id": "98bc4e92-f19b-464a-9383-b501655daa3b",
   "metadata": {},
   "outputs": [
    {
     "name": "stdout",
     "output_type": "stream",
     "text": [
      "LoanAmount        0.551510\n",
      "Credit_History    0.197820\n",
      "Property_Area     0.097812\n",
      "Gender            0.087097\n",
      "Self_Employed     0.065763\n",
      "dtype: float64\n"
     ]
    }
   ],
   "source": [
    "featimp = pd.Series(model.feature_importances_, index = predictor_var).sort_values(ascending = False)\n",
    "print (featimp)"
   ]
  },
  {
   "cell_type": "markdown",
   "id": "302c9bf8-8ac0-4deb-9293-c777e703f0d9",
   "metadata": {},
   "source": [
    "#### 3.3 Visualizing a series with feature importances"
   ]
  },
  {
   "cell_type": "code",
   "execution_count": 358,
   "id": "7876e884-90d4-4b12-a91d-eaa130c7ac1f",
   "metadata": {},
   "outputs": [
    {
     "data": {
      "text/plain": [
       "<AxesSubplot:>"
      ]
     },
     "execution_count": 358,
     "metadata": {},
     "output_type": "execute_result"
    },
    {
     "data": {
      "image/png": "[encoded data removed]",
      "text/plain": [
       "<Figure size 432x288 with 1 Axes>"
      ]
     },
     "metadata": {
      "needs_background": "light"
     },
     "output_type": "display_data"
    }
   ],
   "source": [
    "featimp = pd.Series(model.feature_importances_, index = predictor_var).sort_values(ascending = False)\n",
    "featimp.nlargest(10).plot(kind = 'bar')"
   ]
  },
  {
   "cell_type": "markdown",
   "id": "7279664c-b297-4c33-ad34-5b233212fbb3",
   "metadata": {},
   "source": [
    "#### 3.4 Improving learning perfomance of the original target by choosing the best combination of parameters"
   ]
  },
  {
   "cell_type": "code",
   "execution_count": 369,
   "id": "6b06db9f-28ce-4833-b33e-381dcd575183",
   "metadata": {},
   "outputs": [
    {
     "name": "stdout",
     "output_type": "stream",
     "text": [
      "Accuracy : 78.116%\n",
      "Cross-Validation Score : 60.177%\n"
     ]
    }
   ],
   "source": [
    "outcome_var = 'Loan_Status'\n",
    "model = RandomForestClassifier(n_estimators = 150, min_samples_split = 15)\n",
    "predictor_var = ['Gender', 'LoanAmount', 'Credit_History', 'Property_Area']\n",
    "classification_model(model, train, predictor_var, outcome_var)"
   ]
  },
  {
   "cell_type": "markdown",
   "id": "1c2444b6-9e7b-443b-a68d-fb1f18f96fd7",
   "metadata": {},
   "source": [
    "# Task #4.5 — Improve final performance by choosing the best combination of the learning models and parameter tunning"
   ]
  },
  {
   "cell_type": "markdown",
   "id": "ebe6337a-b9fb-4311-a286-268626e6995d",
   "metadata": {},
   "source": [
    "#### Education"
   ]
  },
  {
   "cell_type": "code",
   "execution_count": 342,
   "id": "4e853b1b-12f2-4335-977d-37e5565e67e9",
   "metadata": {},
   "outputs": [
    {
     "name": "stdout",
     "output_type": "stream",
     "text": [
      "Accuracy : 80.547%\n",
      "Cross-Validation Score : 75.986%\n"
     ]
    }
   ],
   "source": [
    "outcome_var = 'Education'\n",
    "model = RandomForestClassifier(n_estimators = 150, min_samples_split = 15)\n",
    "predictor_var = ['Married', 'ApplicantIncome', 'Credit_History', 'Property_Area']\n",
    "classification_model(model, train ,predictor_var, outcome_var)"
   ]
  },
  {
   "cell_type": "markdown",
   "id": "298f23f8-313c-44e9-ac90-e06258b48320",
   "metadata": {},
   "source": [
    "#### Self-Employed"
   ]
  },
  {
   "cell_type": "code",
   "execution_count": 351,
   "id": "0c7cae85-ea34-43e0-a005-c5dd71765a00",
   "metadata": {},
   "outputs": [
    {
     "name": "stdout",
     "output_type": "stream",
     "text": [
      "Accuracy : 78.723%\n",
      "Cross-Validation Score : 61.086%\n"
     ]
    }
   ],
   "source": [
    "outcome_var = 'Self_Employed'\n",
    "model = RandomForestClassifier(n_estimators = 150, min_samples_split = 15)\n",
    "predictor_var = ['ApplicantIncome', 'Property_Area', 'Loan_Status']\n",
    "classification_model(model, train, predictor_var, outcome_var)"
   ]
  },
  {
   "cell_type": "markdown",
   "id": "7774f9cb-fc1a-4848-aca7-c9e7959f2b5e",
   "metadata": {},
   "source": [
    "#### Loan Status"
   ]
  },
  {
   "cell_type": "code",
   "execution_count": 369,
   "id": "f88ed206-30f2-4180-b2b2-2ebdf66813ae",
   "metadata": {},
   "outputs": [
    {
     "name": "stdout",
     "output_type": "stream",
     "text": [
      "Accuracy : 78.116%\n",
      "Cross-Validation Score : 60.177%\n"
     ]
    }
   ],
   "source": [
    "outcome_var = 'Loan_Status'\n",
    "model = RandomForestClassifier(n_estimators = 150, min_samples_split = 15)\n",
    "predictor_var = ['Gender', 'LoanAmount', 'Credit_History', 'Property_Area']\n",
    "classification_model(model, train, predictor_var, outcome_var)"
   ]
  }
 ],
 "metadata": {
  "kernelspec": {
   "display_name": "Python 3 (ipykernel)",
   "language": "python",
   "name": "python3"
  },
  "language_info": {
   "codemirror_mode": {
    "name": "ipython",
    "version": 3
   },
   "file_extension": ".py",
   "mimetype": "text/x-python",
   "name": "python",
   "nbconvert_exporter": "python",
   "pygments_lexer": "ipython3",
   "version": "3.8.8"
  },
  "toc-autonumbering": false,
  "toc-showcode": false,
  "toc-showmarkdowntxt": false,
  "toc-showtags": false
 },
 "nbformat": 4,
 "nbformat_minor": 5
}
